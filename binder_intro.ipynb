{
 "cells": [
  {
   "cell_type": "markdown",
   "metadata": {},
   "source": [
    "\n",
    "# Welcome to Binder: Your Analytics Environment!\n",
    "\n",
    "Binder is an online service that provides you with a working space to build and share code. Binder supports different coding languages and many of them can be used to solve analytics problems. Currently the most popular coding languages for analytics (especially for beginers) are R and python. While it can be useful to spend time learning a coding language, many of the analytics tasks can be done using basic coding commands and leveraging pre-made codes which are called packages or libraries. For our tasks we will be using python and specifically using what we call a Jupyter notebook.\n",
    "\n",
    "A Jupyter notebook is an interactive coding environement for python which lets you test code by yourself, however visually it is organised like a notebook so it can be structured as a learning course. \n",
    "\n",
    "So what you are looking at right now is the Jupyter notebook environment, hosted by the Binder service so that it can be shared with you.\n",
    "\n",
    "For this introduction we will help you get familiar with the notebook environment. Don't worry, you don't have to memorise any of this. All of the information you will see here can be googled. It is more important to understand the concepts so that you know what to google for!\n",
    "\n",
    "While you won't be editing a signficiant amount of code during this module, it is important to know that you can edit aspects relevant for the activities. A great thing about this particular Binder is that you can modify the text, the code, delete anything or add anything and none of it will be permanent! If you re-open the binder link, the environement will reset to it's original state. \n",
    "\n",
    "<font color='blue'>**You cannot break anything! So feel free to experiment.**</font>\n",
    "\n",
    "## 1. Notebook Layout\n",
    "\n",
    "You can open and close the table of content by clicking on the symbol on the left side (marked in orange in the figure below). From this you can navigate to the different sections of the notebook.\n",
    "\n",
    "At the top of the screen you have a drop down menu which you will not need for this project. The icon menu on the top (highlighted in blue) will have everything you need to navigate the tasks. \n",
    "Under the menu is the main body of the notebook. This main part is organised in sections which are called 'cells'. We are using only 2 type of cells: markdown cells and coding cells. We will provide more details on cell types further down.\n",
    "\n",
    "<img src=\"./images/Jupyter2.png\" width=\"80%\"/>\n",
    "\n",
    "## 2. Jupyter Notebook Menus\n",
    "\n",
    "Let us have a closer look at the top icons menu. The only icons we care about for this project are highlighted in the figure below.\n",
    "\n",
    "<img src=\"./images/Jupyter0.png\" width=\"100%\"/>\n",
    "\n",
    "The 2 most important menu commands are:\n",
    "\n",
    "- Run full notebook: it is always good to do this first when you open a binder exercise. This will execute all the cells\n",
    "- Run cell: this will execute the selected cell and then move forward. Always remember that you need to select the cell you want to run by clicking on it.\n",
    "\n",
    "Often code cells depends on each other. This means that in order to run successfully the 5th cell you need to make sure you already ran the previous 4 in order. This also means that if you make it to cell 5 but then you want to change the code in cell 3, to have the changes reflect all the way through to cell 5 you will need tu re-run cell 3 to 5.\n",
    "\n",
    "We will practice this later on.\n",
    "\n",
    "Next useful commands are:\n",
    "\n",
    "- Save checkpoint: this will save the current state of your notebook locally. This is not a permanent save. It is only valide during the work session. If you re-open the binder it will reset to it's original state. Make use of this save point while you are running through the notebook and specially if you make changes that you want to save.\n",
    "\n",
    "- Restore last checkpoint: if you make changes that you are not happy with, you can always restore the notebook to the last checkpoint state by using this command. Remember, if all fails you can always re-open the binder link and start the session fresh.\n",
    "\n",
    "The remaining commands are related to editing the cells like adding a new cell, copy and pasting a cell ... etc. When adding a new cell, it defaults to a coding one. To change the cell type you can select the cell and use the drop down on the top right of the menu. For this project we will only be using markdown and code cells.\n",
    "\n",
    "There is also a download icon which lets you download the notebook file to keep for your own reference or to use as a starting point for any future coding. You will need to install Jupyter notebook locally in your computer to be able to read and run the file. For this project, you don't need to install anything. Binder provides all the required software in the cloud to run this coding environment for you.\n",
    "\n",
    "\n",
    "## 3. Cell Types and Operations\n",
    "\n",
    "As mentioned above, we will only use 2 types of cells:\n",
    "\n",
    "1. Markdown cells, which contain titles, explanatory text and figures or tables. There is no analytical calculations in these cells. The section where you are reading this right now is a markdown cell.\n",
    "\n",
    "2. Code cells, which contain actual python code. You can recognise code cells by the grey background and they also always have square brackets <font color='blue'>'[ ]:'</font>  with a number to the left of them."
   ]
  },
  {
   "cell_type": "code",
   "execution_count": null,
   "metadata": {},
   "outputs": [],
   "source": []
  }
 ],
 "metadata": {
  "kernelspec": {
   "display_name": "Python 3",
   "language": "python",
   "name": "python3"
  },
  "language_info": {
   "codemirror_mode": {
    "name": "ipython",
    "version": 3
   },
   "file_extension": ".py",
   "mimetype": "text/x-python",
   "name": "python",
   "nbconvert_exporter": "python",
   "pygments_lexer": "ipython3",
   "version": "3.7.9"
  }
 },
 "nbformat": 4,
 "nbformat_minor": 4
}
